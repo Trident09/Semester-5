{
 "cells": [
  {
   "cell_type": "markdown",
   "id": "ddb6342e",
   "metadata": {},
   "source": [
    "Step 1: Import necessary libraries"
   ]
  },
  {
   "cell_type": "code",
   "execution_count": 2,
   "id": "6e4f5ece",
   "metadata": {},
   "outputs": [],
   "source": [
    "import xml.etree.ElementTree as ET\n"
   ]
  },
  {
   "cell_type": "markdown",
   "id": "6b005104",
   "metadata": {},
   "source": [
    "Step 2: Introduction to XML"
   ]
  },
  {
   "cell_type": "code",
   "execution_count": 3,
   "id": "94fd1817",
   "metadata": {},
   "outputs": [],
   "source": [
    "xml_data = '''\n",
    "<bookstore>\n",
    "    <book>\n",
    "        <title>Introduction to Python</title>\n",
    "        <author>John Doe</author>\n",
    "        <price>29.95</price>\n",
    "    </book>\n",
    "    <book>\n",
    "        <title>Data Science Essentials</title>\n",
    "        <author>Jane Smith</author>\n",
    "        <price>39.99</price>\n",
    "    </book>\n",
    "</bookstore>\n",
    "'''\n"
   ]
  },
  {
   "cell_type": "markdown",
   "id": "f186ec66",
   "metadata": {},
   "source": [
    "Step 3: Parsing XML with ElementTree"
   ]
  },
  {
   "cell_type": "code",
   "execution_count": 4,
   "id": "15a0d425",
   "metadata": {},
   "outputs": [],
   "source": [
    "# Parse XML\n",
    "root = ET.fromstring(xml_data)\n"
   ]
  },
  {
   "cell_type": "markdown",
   "id": "bb78200d",
   "metadata": {},
   "source": [
    "Step 4: Accessing Elements and Attributes"
   ]
  },
  {
   "cell_type": "code",
   "execution_count": 5,
   "id": "1ea57531",
   "metadata": {},
   "outputs": [
    {
     "name": "stdout",
     "output_type": "stream",
     "text": [
      "Title: Introduction to Python, Author: John Doe, Price: $29.95\n",
      "Title: Data Science Essentials, Author: Jane Smith, Price: $39.99\n"
     ]
    }
   ],
   "source": [
    "# Access elements and attributes\n",
    "for book in root.findall('.//book'):\n",
    "    title = book.find('title').text\n",
    "    author = book.find('author').text\n",
    "    price = book.find('price').text\n",
    "    print(f'Title: {title}, Author: {author}, Price: ${price}')\n"
   ]
  },
  {
   "cell_type": "markdown",
   "id": "09b6e6ed",
   "metadata": {},
   "source": [
    "Step 5: Iterating Through XML Elements"
   ]
  },
  {
   "cell_type": "code",
   "execution_count": 6,
   "id": "384890ff",
   "metadata": {},
   "outputs": [
    {
     "name": "stdout",
     "output_type": "stream",
     "text": [
      "Title: Introduction to Python, Author: John Doe, Price: $29.95\n",
      "Title: Data Science Essentials, Author: Jane Smith, Price: $39.99\n"
     ]
    }
   ],
   "source": [
    "# Iterating through elements\n",
    "for book in root.iter('book'):\n",
    "    title = book.find('title').text\n",
    "    author = book.find('author').text\n",
    "    price = book.find('price').text\n",
    "    print(f'Title: {title}, Author: {author}, Price: ${price}')\n"
   ]
  },
  {
   "cell_type": "markdown",
   "id": "46774dc0",
   "metadata": {},
   "source": [
    "Step 6: Modifying XML"
   ]
  },
  {
   "cell_type": "code",
   "execution_count": 7,
   "id": "577e3a3e",
   "metadata": {},
   "outputs": [],
   "source": [
    "# Modifying XML\n",
    "for price_element in root.iter('price'):\n",
    "    new_price = str(float(price_element.text) + 10)\n",
    "    price_element.text = new_price\n"
   ]
  },
  {
   "cell_type": "markdown",
   "id": "f618edc7",
   "metadata": {},
   "source": [
    "Step 7: Handling XML namespaces"
   ]
  },
  {
   "cell_type": "code",
   "execution_count": 8,
   "id": "5fa63e27",
   "metadata": {},
   "outputs": [
    {
     "name": "stdout",
     "output_type": "stream",
     "text": [
      "Some content\n"
     ]
    }
   ],
   "source": [
    "# Handling namespaces\n",
    "xml_data_with_namespace = '''\n",
    "<root xmlns=\"http://www.example.com\">\n",
    "    <element>Some content</element>\n",
    "</root>\n",
    "'''\n",
    "namespaced_root = ET.fromstring(xml_data_with_namespace)\n",
    "element = namespaced_root.find('.//{http://www.example.com}element')\n",
    "print(element.text)\n"
   ]
  },
  {
   "cell_type": "markdown",
   "id": "e730a2e6",
   "metadata": {},
   "source": [
    "Step 8: Error Handling"
   ]
  },
  {
   "cell_type": "code",
   "execution_count": 9,
   "id": "1ac64e87",
   "metadata": {},
   "outputs": [],
   "source": [
    "# Error handling\n",
    "try:\n",
    "    non_existent_element = root.find('.//nonexistent')\n",
    "except ET.ElementTree.ParseError as e:\n",
    "    print(f'Error: {e}')\n"
   ]
  },
  {
   "cell_type": "markdown",
   "id": "6bb39a30",
   "metadata": {},
   "source": [
    "Step 9: XPath and Advanced Queries"
   ]
  },
  {
   "cell_type": "code",
   "execution_count": 10,
   "id": "8af78fbf",
   "metadata": {},
   "outputs": [],
   "source": [
    "# XPath and Advanced Queries\n",
    "selected_books = root.findall('.//book[price>30]')\n",
    "for book in selected_books:\n",
    "    title = book.find('title').text\n",
    "    author = book.find('author').text\n",
    "    price = book.find('price').text\n",
    "    print(f'Title: {title}, Author: {author}, Price: ${price}')\n"
   ]
  },
  {
   "cell_type": "markdown",
   "id": "688d4755",
   "metadata": {},
   "source": [
    "Step 10: XML to Python Data Structures"
   ]
  },
  {
   "cell_type": "code",
   "execution_count": 11,
   "id": "28ca4d9c",
   "metadata": {},
   "outputs": [
    {
     "name": "stdout",
     "output_type": "stream",
     "text": [
      "[{'title': 'Introduction to Python', 'author': 'John Doe', 'price': 39.95}, {'title': 'Data Science Essentials', 'author': 'Jane Smith', 'price': 49.99}]\n"
     ]
    }
   ],
   "source": [
    "# XML to Python Data Structures\n",
    "books_list = []\n",
    "for book in root.iter('book'):\n",
    "    book_dict = {\n",
    "        'title': book.find('title').text,\n",
    "        'author': book.find('author').text,\n",
    "        'price': float(book.find('price').text)\n",
    "    }\n",
    "    books_list.append(book_dict)\n",
    "print(books_list)\n"
   ]
  },
  {
   "cell_type": "markdown",
   "id": "c9913a83",
   "metadata": {},
   "source": [
    "Step 11: Best Practices"
   ]
  },
  {
   "cell_type": "code",
   "execution_count": 12,
   "id": "2138c86f",
   "metadata": {},
   "outputs": [],
   "source": [
    "# Best Practices\n",
    "\n",
    "# 1. Always check if elements or attributes exist before accessing them to avoid errors.\n",
    "# 2. Validate XML documents before parsing to ensure they adhere to the expected structure.\n",
    "# 3. Use meaningful variable names and comments to improve code readability.\n",
    "# 4. Close the file or free up resources when done to prevent memory leaks.\n"
   ]
  },
  {
   "cell_type": "code",
   "execution_count": 13,
   "id": "856a3040",
   "metadata": {},
   "outputs": [
    {
     "data": {
      "text/plain": [
       "'\\n<students>\\n    <student>\\n        <name>John Doe</name>\\n        <grade>85</grade>\\n    </student>\\n    <student>\\n        <name>Jane Smith</name>\\n        <grade>92</grade>\\n    </student>\\n    <!-- More student entries... -->\\n</students>\\n'"
      ]
     },
     "execution_count": 13,
     "metadata": {},
     "output_type": "execute_result"
    }
   ],
   "source": [
    "# Project or Lab\n",
    "\n",
    "# Imagine you have an XML file representing student information. Design a program to:\n",
    "# 1. Parse the XML file.\n",
    "# 2. Extract and print the names and grades of all students.\n",
    "# 3. Calculate and print the average grade.\n",
    "# 4. Modify the XML to add a new student.\n",
    "# 5. Save the modified XML file.\n",
    "\n",
    "# Example XML structure:\n",
    "\"\"\"\n",
    "<students>\n",
    "    <student>\n",
    "        <name>John Doe</name>\n",
    "        <grade>85</grade>\n",
    "    </student>\n",
    "    <student>\n",
    "        <name>Jane Smith</name>\n",
    "        <grade>92</grade>\n",
    "    </student>\n",
    "    <!-- More student entries... -->\n",
    "</students>\n",
    "\"\"\"\n",
    "\n",
    "# Your task is to implement the program that achieves the above objectives.\n",
    "# Feel free to extend the program with additional features or validations.\n"
   ]
  }
 ],
 "metadata": {
  "kernelspec": {
   "display_name": "Python 3 (ipykernel)",
   "language": "python",
   "name": "python3"
  },
  "language_info": {
   "codemirror_mode": {
    "name": "ipython",
    "version": 3
   },
   "file_extension": ".py",
   "mimetype": "text/x-python",
   "name": "python",
   "nbconvert_exporter": "python",
   "pygments_lexer": "ipython3",
   "version": "3.9.16"
  }
 },
 "nbformat": 4,
 "nbformat_minor": 5
}
