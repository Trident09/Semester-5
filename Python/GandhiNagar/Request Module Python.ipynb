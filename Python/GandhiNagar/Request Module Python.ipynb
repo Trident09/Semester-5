{
 "cells": [
  {
   "cell_type": "markdown",
   "id": "9e7676a5",
   "metadata": {},
   "source": []
  },
  {
   "cell_type": "code",
   "execution_count": 1,
   "id": "a6c46ba0",
   "metadata": {},
   "outputs": [
    {
     "name": "stdout",
     "output_type": "stream",
     "text": [
      "Requirement already satisfied: requests in c:\\ml\\lib\\site-packages (2.26.0)\n",
      "Requirement already satisfied: urllib3<1.27,>=1.21.1 in c:\\ml\\lib\\site-packages (from requests) (1.26.7)\n",
      "Requirement already satisfied: charset-normalizer~=2.0.0 in c:\\ml\\lib\\site-packages (from requests) (2.0.4)\n",
      "Requirement already satisfied: certifi>=2017.4.17 in c:\\ml\\lib\\site-packages (from requests) (2021.10.8)\n",
      "Requirement already satisfied: idna<4,>=2.5 in c:\\ml\\lib\\site-packages (from requests) (3.2)\n"
     ]
    }
   ],
   "source": [
    "!pip install requests"
   ]
  },
  {
   "cell_type": "code",
   "execution_count": 15,
   "id": "0074d40a",
   "metadata": {},
   "outputs": [
    {
     "name": "stdout",
     "output_type": "stream",
     "text": [
      "<Response [200]>\n",
      "ISO-8859-1\n",
      "200\n",
      "0:00:00.363041\n",
      "http://www.google.com/\n",
      "[]\n",
      "text/html; charset=ISO-8859-1\n"
     ]
    }
   ],
   "source": [
    "import requests  \n",
    "req = requests.get('http://www.google.com/)  \n",
    "print(req)   \n",
    "print(req.encoding) # returns 'utf-8'  \n",
    "print(req.status_code) # returns 200  \n",
    "print(req.elapsed) # returns datetime.timedelta(0, 1, 666890)  \n",
    "print(req.url)   \n",
    "   \n",
    "print(req.history)   \n",
    "   \n",
    "print(req.headers['Content-Type'])  "
   ]
  },
  {
   "cell_type": "code",
   "execution_count": 9,
   "id": "b98848c7",
   "metadata": {},
   "outputs": [
    {
     "name": "stdout",
     "output_type": "stream",
     "text": [
      "{'args': {}, 'data': '', 'files': {}, 'form': {'password': '1234', 'username': 'abc'}, 'headers': {'Accept': '*/*', 'Accept-Encoding': 'gzip, deflate, br', 'Content-Length': '26', 'Content-Type': 'application/x-www-form-urlencoded', 'Host': 'httpbin.org', 'User-Agent': 'python-requests/2.26.0', 'X-Amzn-Trace-Id': 'Root=1-63a2a133-389c0cd11f8f8a6115df808f'}, 'json': None, 'origin': '14.139.110.137', 'url': 'https://httpbin.org/post'}\n"
     ]
    }
   ],
   "source": [
    "import requests  \n",
    "json_data = {'username':'abc','password':'1234'}  \n",
    "r = requests.post('https://httpbin.org/post',data = json_data)  \n",
    "  \n",
    "print(r.json())  "
   ]
  },
  {
   "cell_type": "code",
   "execution_count": 8,
   "id": "1e22a98a",
   "metadata": {},
   "outputs": [
    {
     "name": "stdout",
     "output_type": "stream",
     "text": [
      "{'password': '1234', 'username': 'abc'}\n"
     ]
    }
   ],
   "source": [
    "import requests  \n",
    "json_data = {'username':'abc','password':'1234'}  \n",
    "r = requests.post('https://httpbin.org/post',data = json_data)  \n",
    "r_dictionary= r.json()  \n",
    "print(r_dictionary['form'])  "
   ]
  }
 ],
 "metadata": {
  "kernelspec": {
   "display_name": "Python 3 (ipykernel)",
   "language": "python",
   "name": "python3"
  },
  "language_info": {
   "codemirror_mode": {
    "name": "ipython",
    "version": 3
   },
   "file_extension": ".py",
   "mimetype": "text/x-python",
   "name": "python",
   "nbconvert_exporter": "python",
   "pygments_lexer": "ipython3",
   "version": "3.9.16"
  }
 },
 "nbformat": 4,
 "nbformat_minor": 5
}
